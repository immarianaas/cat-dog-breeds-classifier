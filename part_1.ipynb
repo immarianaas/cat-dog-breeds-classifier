{
 "cells": [
  {
   "cell_type": "markdown",
   "metadata": {},
   "source": [
    "# _1st code file of TAA project_\n",
    "This file contains the parts where images are read, rescaled and saved for future use\n",
    "\n",
    "It also contains the code of 3 charts:\n",
    "* number of images per breed\n",
    "* example of one image per breed in the data set\n",
    "* example of images of 2 well defined breeds\n"
   ]
  },
  {
   "cell_type": "code",
   "execution_count": null,
   "metadata": {},
   "outputs": [],
   "source": [
    "import os\n",
    "import glob\n",
    "import matplotlib.pyplot as plt\n",
    "import cv2\n",
    "import random\n",
    "import numpy as np\n",
    "import pickle\n",
    "from mpl_toolkits.axes_grid1 import ImageGrid\n",
    "\n",
    "\n",
    "import tensorflow as tf\n",
    "from tensorflow.keras.models import Sequential\n",
    "from tensorflow.keras.layers import Dense, Dropout, Activation, Flatten, Conv2D, MaxPooling2D\n"
   ]
  },
  {
   "cell_type": "markdown",
   "metadata": {},
   "source": [
    "### Getting list of images (excluding some that do not open)"
   ]
  },
  {
   "cell_type": "code",
   "execution_count": null,
   "metadata": {},
   "outputs": [],
   "source": [
    "ROOT = 'catsanddogs'\n",
    "IMGS_PATH = 'catsanddogs/images/images'\n",
    "TRIMAP_PATH = 'catsanddogs/annotations/annotations/trimaps'\n",
    "\n",
    "bad = {'Abyssinian_34.jpg', 'Egyptian_Mau_145.jpg', 'Egyptian_Mau_139.jpg', 'Egyptian_Mau_191.jpg', 'Egyptian_Mau_177.jpg', 'Egyptian_Mau_167.jpg'}\n",
    "\n",
    "all_imgs = [i for i in os.listdir(IMGS_PATH) if i.rsplit('.',1)[1] == 'jpg' and i not in bad]\n",
    "all_trimaps = [i for i in os.listdir(TRIMAP_PATH) if i.rsplit('.',1)[1] == 'png']\n",
    "\n",
    "print('We have ' + str(len(all_imgs)) + ' good imgages.')\n",
    "print('(for some reason, there are ' + str(len(bad)) + ' that do not want to open)')"
   ]
  },
  {
   "cell_type": "markdown",
   "metadata": {},
   "source": [
    "### To get information about the images from the `list.txt` file\n",
    "Information is extracted into 2 dictionaries: `info_by_id` and `info_by_breed`"
   ]
  },
  {
   "cell_type": "code",
   "execution_count": null,
   "metadata": {},
   "outputs": [],
   "source": [
    "# getting info from 'list.txt' file\n",
    "l = open(ROOT + '/annotations/annotations/list.txt', 'r')\n",
    "get_breed = lambda pic : pic.rsplit('_',1)[0].lower()\n",
    "get_species = lambda num : 'cat' if num==1 else 'dog'\n",
    "\n",
    "info_by_id = {}\n",
    "info_by_breed = {}\n",
    "\n",
    "# taking note of the names and ids of the breeds\n",
    "for line in l:\n",
    "  if line[0] == '#':\n",
    "    continue\n",
    "  line = line.strip().split(' ')\n",
    "  species = get_species(int(line[2]))\n",
    "  id = int(line[1])\n",
    "  breedid = int(line[3])\n",
    "  name = get_breed(line[0]).lower()\n",
    "  if name not in info_by_breed:\n",
    "    info_by_breed[name] = {'breed' : name, 'species' : species, 'globalid': id, 'breedid':breedid, 'count':0}\n",
    "    info_by_id[id] = info_by_breed[name]\n",
    "\n",
    "# to count the images we can't trust the file\n",
    "for p in [get_breed(n) for n in all_imgs]:\n",
    "  info_by_breed[p]['count']+=1\n"
   ]
  },
  {
   "cell_type": "markdown",
   "metadata": {},
   "source": [
    "### Display a bar chart of the number of images per breed & couting images per species"
   ]
  },
  {
   "cell_type": "code",
   "execution_count": null,
   "metadata": {},
   "outputs": [],
   "source": [
    "ids = list(info_by_id.keys())\n",
    "\n",
    "# X value:\n",
    "counts = [info_by_id[id]['count'] for id in ids]\n",
    "x_labels = [info_by_id[i]['breed'] for i in ids]\n",
    "\n",
    "# colours & legend:\n",
    "colours = [ 'blue' if info_by_id[id]['species']=='cat' else 'red' for id in ids]\n",
    "\n",
    "colours_leg = {'cat': 'blue', 'dog':'red'}\n",
    "labels = list(colours_leg.keys())\n",
    "handles = [plt.Rectangle((0,0),1,1, color=colours_leg[label]) for label in colours_leg]\n",
    "\n",
    "# plotting:\n",
    "fig, ax = plt.subplots( figsize= (11,4))\n",
    "ax.bar(ids, counts, color=colours)\n",
    "\n",
    "# set ticks & axis labels & legend:\n",
    "ax.set_xticks(ids)\n",
    "ax.set_xticklabels(x_labels, rotation='vertical')\n",
    "plt.legend(handles, labels)\n",
    "plt.xlabel('breeds')\n",
    "plt.ylabel('no. of pictures')\n",
    "plt.title('Image distribution by breed')\n",
    "plt.show()\n",
    "\n",
    "nr_cats = sum([ info_by_id[id]['count'] for id in ids if info_by_id[id]['species'] == 'cat' ])\n",
    "nr_dogs = sum([ info_by_id[id]['count'] for id in ids if info_by_id[id]['species'] == 'dog' ])\n",
    "print('There are ' + str(nr_cats) + ' images of cats, and ' + str(nr_dogs) + ' of dogs!')"
   ]
  },
  {
   "cell_type": "markdown",
   "metadata": {},
   "source": [
    "### _Reading_ all images, resizing and adding to list"
   ]
  },
  {
   "cell_type": "code",
   "execution_count": null,
   "metadata": {},
   "outputs": [],
   "source": [
    "# setting image pixel side size\n",
    "IMG_SIZE = 299"
   ]
  },
  {
   "cell_type": "code",
   "execution_count": null,
   "metadata": {},
   "outputs": [],
   "source": [
    "def getXy(rem_background=False, imgs=None):\n",
    "  # function that returns the number correspondent to the breed of   the animal in the image, given the image name\n",
    "  get_class_no = lambda name : info_by_breed[get_breed(name)]  ['globalid']\n",
    "  \n",
    "  # this set was only used in the begining, before knowing which   images were not opening\n",
    "  # bad = set()\n",
    "  \n",
    "  # all image tensors will be stored here after resizing\n",
    "  training_data = []\n",
    "  \n",
    "  for img in all_imgs:\n",
    "    path = os.path.join(IMGS_PATH, img)\n",
    "  \n",
    "    # this is a trick to make the image be opened in RGB format,   which is not the default\n",
    "    img_array = cv2.imread(path)[...,::-1] \n",
    "  \n",
    "    # this next block of code, just like the 'bad' set, was   used before finding out \"bad\" images\n",
    "    # if img_array is None:\n",
    "    #   bad.add(img)\n",
    "    #   continue\n",
    "  \n",
    "    if rem_background:\n",
    "\n",
    "      trimap_filename = img.rsplit('.', 1)[0] + '.png'\n",
    "      if trimap_filename in all_trimaps:\n",
    "        tri_array = cv2.imread(os.path.join(TRIMAP_PATH, trimap_filename))\n",
    "        # if pixel in tri_array is 2, then it is background => 0\n",
    "        tri_array[tri_array==2] = 0\n",
    "        # if pixel in tri_array is < 2, then it is background and not defined => 1\n",
    "        tri_array[tri_array>0] = 1\n",
    "        \n",
    "        # then it is multiplied so that the background pixels multiply by 0 and get \"removed\"\n",
    "        img_array = np.multiply(tri_array, img_array)\n",
    "\n",
    "\n",
    "    # here the images are rezise\n",
    "    img_array = cv2.resize(img_array, (IMG_SIZE, IMG_SIZE))\n",
    "  \n",
    "    # get the ID of the image class\n",
    "    class_no = get_class_no(img)\n",
    "  \n",
    "    if imgs is not None and class_no not in imgs:\n",
    "      imgs[class_no] = path\n",
    "  \n",
    "    training_data.append([img_array, class_no])\n",
    "    \n",
    "  # data should be in random order to improve performance\n",
    "  random.shuffle(training_data)\n",
    "  \n",
    "  # separating data from list\n",
    "  training = list(zip(*training_data))\n",
    "  X = training[0]\n",
    "  y = training[1]\n",
    "  \n",
    "  # transforming X to an np.array and resizing\n",
    "  X = np.array(X).reshape(-1, IMG_SIZE, IMG_SIZE, 3)\n",
    "  return X, y"
   ]
  },
  {
   "cell_type": "markdown",
   "metadata": {},
   "source": [
    "### Saving this data to files to make it easier to use it"
   ]
  },
  {
   "cell_type": "code",
   "execution_count": null,
   "metadata": {},
   "outputs": [],
   "source": [
    "def save(obj, fic_name, open_type='wb'):\n",
    "  pickle_out = open(fic_name, open_type)\n",
    "  pickle.dump(obj, pickle_out)\n",
    "  pickle_out.close()\n",
    "  "
   ]
  },
  {
   "cell_type": "code",
   "execution_count": null,
   "metadata": {},
   "outputs": [],
   "source": [
    "  # this is a dictionary that is going to be used to map the ID to a   path to an image, with the same goal as the list before\n",
    "imgs = {}\n",
    "\n",
    "X, y = getXy(imgs=imgs, rem_background=False)\n",
    "save(X, 'X299.pickle')\n",
    "save(y, 'y299.pickle')\n",
    "print(X.shape)"
   ]
  },
  {
   "cell_type": "markdown",
   "metadata": {},
   "source": [
    "### Display a chart containing one image per breed in the data set"
   ]
  },
  {
   "cell_type": "code",
   "execution_count": null,
   "metadata": {},
   "outputs": [],
   "source": [
    "# getting a list of all images we want to show in order\n",
    "ids = sorted(list(imgs.keys()))\n",
    "figs = [cv2.resize(cv2.imread(imgs[i])[...,::-1], (IMG_SIZE, IMG_SIZE)) for i in ids]\n",
    "\n",
    "fig = plt.figure(figsize=(15,15))\n",
    "grid = ImageGrid(\n",
    "    fig,\n",
    "    111,\n",
    "    nrows_ncols=(5, 8),\n",
    "    axes_pad=0.3\n",
    ")\n",
    "\n",
    "i = 1\n",
    "for ax, im in zip(grid, figs):\n",
    "    # putting the correspondent number at the top:\n",
    "    ax.set_title(i, loc='right')\n",
    "    ax.imshow(im)\n",
    "    ax.axis('off')\n",
    "    i+=1\n",
    "\n",
    "fig.subplots_adjust(top=1.27)\n",
    "fig.suptitle('Examples of Pet Image per Breed', size='xx-large')\n",
    "plt.show()"
   ]
  },
  {
   "cell_type": "markdown",
   "metadata": {},
   "source": [
    "### Save data from images without background as well"
   ]
  },
  {
   "cell_type": "code",
   "execution_count": null,
   "metadata": {},
   "outputs": [],
   "source": [
    "X, y = getXy(rem_background=True)\n",
    "save(X, 'X299_noBG.pickle')\n",
    "save(y, 'y299_noBG.pickle')\n",
    "print(X.shape)"
   ]
  },
  {
   "cell_type": "markdown",
   "metadata": {},
   "source": [
    "### Showing two images of breeds often mispredicted"
   ]
  },
  {
   "cell_type": "code",
   "execution_count": null,
   "metadata": {},
   "outputs": [],
   "source": [
    "pics = ['Bengal_29.jpg', 'Egyptian_Mau_115.jpg']\n",
    "# pics = ['Bombay_162.jpg', 'shiba_inu_39.jpg']\n",
    "pics = [os.path.join(IMGS_PATH, p) for p in pics]\n",
    "figs = [cv2.resize(cv2.imread(p)[...,::-1], (IMG_SIZE, IMG_SIZE)) for p in pics]\n",
    "\n",
    "fig = plt.figure(figsize=(15,15))\n",
    "grid = ImageGrid(\n",
    "    fig,\n",
    "    111,\n",
    "    nrows_ncols=(1, 2),\n",
    "    axes_pad=0.3\n",
    ")\n",
    "\n",
    "i = 1\n",
    "for ax, im in zip(grid, figs):\n",
    "    # putting the correspondent number at the top:\n",
    "    ax.set_title('Bengal' if i == 1 else 'Egyptian Mau', loc='right')\n",
    "    # ax.set_title('Bombay' if i == 1 else 'Shiba Inu', loc='right')\n",
    "    ax.imshow(im)\n",
    "    ax.axis('off')\n",
    "    i+=1\n",
    "\n",
    "fig.subplots_adjust(top=1.38)\n",
    "fig.suptitle('Example of Two Breeds', size='xx-large')\n",
    "plt.show()"
   ]
  },
  {
   "cell_type": "code",
   "execution_count": null,
   "metadata": {},
   "outputs": [],
   "source": []
  }
 ],
 "metadata": {
  "interpreter": {
   "hash": "31f2aee4e71d21fbe5cf8b01ff0e069b9275f58929596ceb00d14d90e3e16cd6"
  },
  "kernelspec": {
   "display_name": "Python 3.8.5 64-bit",
   "name": "python3"
  },
  "language_info": {
   "name": "python",
   "version": ""
  },
  "metadata": {
   "interpreter": {
    "hash": "31f2aee4e71d21fbe5cf8b01ff0e069b9275f58929596ceb00d14d90e3e16cd6"
   }
  }
 },
 "nbformat": 4,
 "nbformat_minor": 4
}