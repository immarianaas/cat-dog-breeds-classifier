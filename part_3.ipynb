{
 "cells": [
  {
   "cell_type": "markdown",
   "metadata": {},
   "source": [
    "# 3rd code file of TAA project\n",
    "This file contains the code used to display charts showing the evolution of metrics like accuracy and loss during the choice of hyper parameters and to make some simple comparisons"
   ]
  },
  {
   "cell_type": "code",
   "execution_count": null,
   "metadata": {},
   "outputs": [],
   "source": [
    "import pickle\n",
    "import numpy as np\n",
    "\n",
    "import matplotlib.pyplot as plt"
   ]
  },
  {
   "cell_type": "markdown",
   "metadata": {},
   "source": [
    "### Function to read pickle files to a list"
   ]
  },
  {
   "cell_type": "code",
   "execution_count": null,
   "metadata": {},
   "outputs": [],
   "source": [
    "def read_file(f):\n",
    "  objs = [] \n",
    "  f = open(f, 'rb')\n",
    "  while 1:\n",
    "      try:\n",
    "          objs.append(pickle.load(f))\n",
    "      except EOFError:\n",
    "          break\n",
    "  f.close()\n",
    "  return objs"
   ]
  },
  {
   "cell_type": "markdown",
   "metadata": {},
   "source": [
    "### Reading the files with historic information about the hyper parameter tuning\n",
    "The name of the file passed to the `read_file` function should be changed to the correct name of the file"
   ]
  },
  {
   "cell_type": "code",
   "execution_count": null,
   "metadata": {
    "tags": []
   },
   "outputs": [],
   "source": [
    "l = read_file('data_v2.pickle')\n",
    "lr = l[-2]['learning_rate']\n",
    "d = l[-1]['dropout']\n",
    "\n",
    "# dictionary that maps the keys of the dictionaries above to the \"normal\" name of the metric\n",
    "metric2name = {'train_acc' : 'train accuracy', 'train_loss' : 'train loss', 'val_acc': 'validation accuracy', 'val_loss': 'validation loss'}"
   ]
  },
  {
   "cell_type": "markdown",
   "metadata": {},
   "source": [
    "### Displaying charts\n",
    "Evaluating different learning rates:"
   ]
  },
  {
   "cell_type": "code",
   "execution_count": null,
   "metadata": {},
   "outputs": [],
   "source": [
    "fig, axs = plt.subplots(2, figsize=(10,7))\n",
    "\n",
    "i = 0\n",
    "for val in lr:\n",
    "    for metric in lr[val]:\n",
    "        axs[i].plot(lr[val][metric], label=metric2name[metric])\n",
    "    axs[i].set_title('learning rate = ' + str(val))\n",
    "    axs[i].set_xlabel('epochs')\n",
    "    axs[i].set_ylabel('value')\n",
    "    axs[i].legend(loc='upper right')\n",
    "    i +=1\n",
    "\n",
    "fig.suptitle('Evolution of metrics varying learning rate', size='xx-large')\n",
    "fig.tight_layout()\n",
    "plt.show()"
   ]
  },
  {
   "cell_type": "markdown",
   "metadata": {},
   "source": [
    "Evaluating different dropout values:"
   ]
  },
  {
   "cell_type": "code",
   "execution_count": null,
   "metadata": {},
   "outputs": [],
   "source": [
    "fig, axs = plt.subplots(2, figsize=(10,7))\n",
    "\n",
    "fig.suptitle('Evolution of metrics varying dropout value', size='xx-large')\n",
    "i = 0\n",
    "for val in d:\n",
    "    for metric in d[val]:\n",
    "        axs[i].plot(d[val][metric], label=metric2name[metric])\n",
    "    axs[i].set_title('dropout value = ' + str(val))\n",
    "    axs[i].set_xlabel('epochs')\n",
    "    axs[i].set_ylabel('value')\n",
    "    axs[i].legend(loc='upper right')\n",
    "    i +=1\n",
    "    \n",
    "fig.tight_layout()\n",
    "plt.show()"
   ]
  },
  {
   "cell_type": "code",
   "execution_count": null,
   "metadata": {},
   "outputs": [],
   "source": [
    "# to compare the two charts:\n",
    "\n",
    "d[0.25]['train_loss']- d[0.35]['train_loss']\n",
    "#d[0.25]['train_acc']- d[0.35]['train_acc']\n",
    "d[0.25]['val_acc']- d[0.35]['val_acc']\n",
    "d[0.25]['val_loss']- d[0.35]['val_loss']\n"
   ]
  },
  {
   "cell_type": "code",
   "execution_count": null,
   "metadata": {},
   "outputs": [],
   "source": [
    "# to compare the two charts:\n",
    "\n",
    "lr[0.001]['train_loss']- lr[0.01]['train_loss']\n",
    "# lr[0.001]['train_acc']-  lr[0.01]['train_acc']\n",
    "# lr[0.001]['val_acc']-    lr[0.01]['val_acc']\n",
    "# lr[0.001]['val_loss']- lr[0.01]['val_loss']\n"
   ]
  },
  {
   "cell_type": "code",
   "execution_count": null,
   "metadata": {},
   "outputs": [],
   "source": []
  }
 ],
 "metadata": {
  "kernelspec": {
   "display_name": "Python 3.8.5 64-bit (conda)",
   "language": "python",
   "name": "python385jvsc74a57bd0e2e40fd61fba73b617df25bec30acdb15385bbbfe183ba1e2dd9d88df1c3ddc4"
  },
  "language_info": {
   "codemirror_mode": {
    "name": "ipython",
    "version": 3
   },
   "file_extension": ".py",
   "mimetype": "text/x-python",
   "name": "python",
   "nbconvert_exporter": "python",
   "pygments_lexer": "ipython3",
   "version": "3.8.5"
  },
  "metadata": {
   "interpreter": {
    "hash": "e2e40fd61fba73b617df25bec30acdb15385bbbfe183ba1e2dd9d88df1c3ddc4"
   }
  }
 },
 "nbformat": 4,
 "nbformat_minor": 4
}
